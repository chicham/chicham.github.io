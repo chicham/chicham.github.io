{
  "cells": [
    {
      "cell_type": "markdown",
      "metadata": {},
      "source": [
        "# About\n",
        "\n",
        "Hi 👋, My name is Hicham Randrianarivo and I am a Senior Research\n",
        "Engineer at Huawei’s Amesterdam Resarch Center. Previously I was team\n",
        "lead Image Search at Qwant in the Paris office. I talk about my\n",
        "interests about python software engineering, deep learning and computer\n",
        "vision.\n",
        "\n",
        "You can find my full resume [here](_files/www/cv_en.pdf)"
      ],
      "id": "085e8b2e-0815-4627-a259-912bacb68875"
    }
  ],
  "nbformat": 4,
  "nbformat_minor": 5,
  "metadata": {
    "kernelspec": {
      "display_name": "Python 3",
      "language": "python",
      "name": "python3"
    }
  }
}