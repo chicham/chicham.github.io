{
  "cells": [
    {
      "cell_type": "markdown",
      "metadata": {},
      "source": [
        "# Fine tuning Stable Diffusion with LoRA\n",
        "\n",
        "Hicham Randrianarivo\n",
        "\n",
        "# Finetuning a Stable Diffusion model\n",
        "\n",
        "<a\n",
        "href=\"https://colab.research.google.com/github/chicham/chicham.github.io/blob/master/posts/fine-tune-stablediffusion-lora/fine-tune-stablediffusion-lora.ipnb\"\n",
        "data-fig-align=\"left\"><img\n",
        "src=\"https://colab.research.google.com/assets/colab-badge.svg\" /></a>\n",
        "\n",
        "## Links\n",
        "\n",
        "-   https://arxiv.org/pdf/2112.10752.pdf\n",
        "-   https://arxiv.org/abs/2108.01073\n",
        "-   https://stability.ai/stable-diffusion\n",
        "-   https://github.com/Stability-AI/generative-models"
      ],
      "id": "de6f5bf8-ed89-4e9f-bed5-c251c729e1c9"
    }
  ],
  "nbformat": 4,
  "nbformat_minor": 5,
  "metadata": {
    "kernelspec": {
      "display_name": "Python 3",
      "language": "python",
      "name": "python3"
    }
  }
}