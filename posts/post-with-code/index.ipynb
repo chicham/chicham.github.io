{
  "cells": [
    {
      "cell_type": "markdown",
      "metadata": {},
      "source": [
        "# Post With Code\n",
        "\n",
        "Harlow Malloc  \n",
        "2023-11-20\n",
        "\n",
        "This is a post with executable code."
      ],
      "id": "055aa858-cddb-4ea5-bf3e-cf0603898883"
    }
  ],
  "nbformat": 4,
  "nbformat_minor": 5,
  "metadata": {
    "kernelspec": {
      "display_name": "Python 3",
      "language": "python",
      "name": "python3"
    }
  }
}