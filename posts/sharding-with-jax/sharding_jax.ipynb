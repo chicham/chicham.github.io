{
  "cells": [
    {
      "cell_type": "markdown",
      "metadata": {},
      "source": [
        "# Sharding with jax\n",
        "\n",
        "Hicham Randrianarivo\n",
        "\n",
        "# Pre-requisites: Parallelism for deep learning\n",
        "\n",
        "# Utils functions"
      ],
      "id": "aa81ba7d-6965-4d67-b46f-3f7656631efe"
    },
    {
      "cell_type": "code",
      "execution_count": 1,
      "metadata": {},
      "outputs": [
        {
          "output_type": "stream",
          "name": "stdout",
          "text": [
            "Download dataset\n",
            "Make model"
          ]
        },
        {
          "output_type": "display_data",
          "metadata": {},
          "data": {
            "text/html": [
              "<pre style=\"white-space:pre;overflow-x:auto;line-height:normal;font-family:Menlo,'DejaVu Sans Mono',consolas,'Courier New',monospace\"><span style=\"font-weight: bold\">Model: \"sequential_1\"</span>\n",
              "</pre>"
            ]
          }
        },
        {
          "output_type": "display_data",
          "metadata": {},
          "data": {
            "text/html": [
              "<pre style=\"white-space:pre;overflow-x:auto;line-height:normal;font-family:Menlo,'DejaVu Sans Mono',consolas,'Courier New',monospace\">┏━━━━━━━━━━━━━━━━━━━━━━━━━━━━━━━━━┳━━━━━━━━━━━━━━━━━━━━━━━━━━━┳━━━━━━━━━━━━┓\n",
              "┃<span style=\"font-weight: bold\"> Layer (type)                    </span>┃<span style=\"font-weight: bold\"> Output Shape              </span>┃<span style=\"font-weight: bold\">    Param # </span>┃\n",
              "┡━━━━━━━━━━━━━━━━━━━━━━━━━━━━━━━━━╇━━━━━━━━━━━━━━━━━━━━━━━━━━━╇━━━━━━━━━━━━┩\n",
              "│ flatten_1 (<span style=\"color: #0087ff; text-decoration-color: #0087ff\">Flatten</span>)             │ (<span style=\"color: #00d7ff; text-decoration-color: #00d7ff\">None</span>, <span style=\"color: #00af00; text-decoration-color: #00af00\">784</span>)               │          <span style=\"color: #00af00; text-decoration-color: #00af00\">0</span> │\n",
              "├─────────────────────────────────┼───────────────────────────┼────────────┤\n",
              "│ dense_8 (<span style=\"color: #0087ff; text-decoration-color: #0087ff\">Dense</span>)                 │ (<span style=\"color: #00d7ff; text-decoration-color: #00d7ff\">None</span>, <span style=\"color: #00af00; text-decoration-color: #00af00\">128</span>)               │    <span style=\"color: #00af00; text-decoration-color: #00af00\">100,480</span> │\n",
              "├─────────────────────────────────┼───────────────────────────┼────────────┤\n",
              "│ dense_9 (<span style=\"color: #0087ff; text-decoration-color: #0087ff\">Dense</span>)                 │ (<span style=\"color: #00d7ff; text-decoration-color: #00d7ff\">None</span>, <span style=\"color: #00af00; text-decoration-color: #00af00\">128</span>)               │     <span style=\"color: #00af00; text-decoration-color: #00af00\">16,512</span> │\n",
              "├─────────────────────────────────┼───────────────────────────┼────────────┤\n",
              "│ dropout_3 (<span style=\"color: #0087ff; text-decoration-color: #0087ff\">Dropout</span>)             │ (<span style=\"color: #00d7ff; text-decoration-color: #00d7ff\">None</span>, <span style=\"color: #00af00; text-decoration-color: #00af00\">128</span>)               │          <span style=\"color: #00af00; text-decoration-color: #00af00\">0</span> │\n",
              "├─────────────────────────────────┼───────────────────────────┼────────────┤\n",
              "│ dense_10 (<span style=\"color: #0087ff; text-decoration-color: #0087ff\">Dense</span>)                │ (<span style=\"color: #00d7ff; text-decoration-color: #00d7ff\">None</span>, <span style=\"color: #00af00; text-decoration-color: #00af00\">128</span>)               │     <span style=\"color: #00af00; text-decoration-color: #00af00\">16,512</span> │\n",
              "├─────────────────────────────────┼───────────────────────────┼────────────┤\n",
              "│ dense_11 (<span style=\"color: #0087ff; text-decoration-color: #0087ff\">Dense</span>)                │ (<span style=\"color: #00d7ff; text-decoration-color: #00d7ff\">None</span>, <span style=\"color: #00af00; text-decoration-color: #00af00\">128</span>)               │     <span style=\"color: #00af00; text-decoration-color: #00af00\">16,512</span> │\n",
              "├─────────────────────────────────┼───────────────────────────┼────────────┤\n",
              "│ dropout_4 (<span style=\"color: #0087ff; text-decoration-color: #0087ff\">Dropout</span>)             │ (<span style=\"color: #00d7ff; text-decoration-color: #00d7ff\">None</span>, <span style=\"color: #00af00; text-decoration-color: #00af00\">128</span>)               │          <span style=\"color: #00af00; text-decoration-color: #00af00\">0</span> │\n",
              "├─────────────────────────────────┼───────────────────────────┼────────────┤\n",
              "│ dense_12 (<span style=\"color: #0087ff; text-decoration-color: #0087ff\">Dense</span>)                │ (<span style=\"color: #00d7ff; text-decoration-color: #00d7ff\">None</span>, <span style=\"color: #00af00; text-decoration-color: #00af00\">128</span>)               │     <span style=\"color: #00af00; text-decoration-color: #00af00\">16,512</span> │\n",
              "├─────────────────────────────────┼───────────────────────────┼────────────┤\n",
              "│ dense_13 (<span style=\"color: #0087ff; text-decoration-color: #0087ff\">Dense</span>)                │ (<span style=\"color: #00d7ff; text-decoration-color: #00d7ff\">None</span>, <span style=\"color: #00af00; text-decoration-color: #00af00\">128</span>)               │     <span style=\"color: #00af00; text-decoration-color: #00af00\">16,512</span> │\n",
              "├─────────────────────────────────┼───────────────────────────┼────────────┤\n",
              "│ dropout_5 (<span style=\"color: #0087ff; text-decoration-color: #0087ff\">Dropout</span>)             │ (<span style=\"color: #00d7ff; text-decoration-color: #00d7ff\">None</span>, <span style=\"color: #00af00; text-decoration-color: #00af00\">128</span>)               │          <span style=\"color: #00af00; text-decoration-color: #00af00\">0</span> │\n",
              "├─────────────────────────────────┼───────────────────────────┼────────────┤\n",
              "│ dense_14 (<span style=\"color: #0087ff; text-decoration-color: #0087ff\">Dense</span>)                │ (<span style=\"color: #00d7ff; text-decoration-color: #00d7ff\">None</span>, <span style=\"color: #00af00; text-decoration-color: #00af00\">128</span>)               │     <span style=\"color: #00af00; text-decoration-color: #00af00\">16,512</span> │\n",
              "├─────────────────────────────────┼───────────────────────────┼────────────┤\n",
              "│ dense_15 (<span style=\"color: #0087ff; text-decoration-color: #0087ff\">Dense</span>)                │ (<span style=\"color: #00d7ff; text-decoration-color: #00d7ff\">None</span>, <span style=\"color: #00af00; text-decoration-color: #00af00\">10</span>)                │      <span style=\"color: #00af00; text-decoration-color: #00af00\">1,290</span> │\n",
              "└─────────────────────────────────┴───────────────────────────┴────────────┘\n",
              "</pre>"
            ]
          }
        },
        {
          "output_type": "display_data",
          "metadata": {},
          "data": {
            "text/html": [
              "<pre style=\"white-space:pre;overflow-x:auto;line-height:normal;font-family:Menlo,'DejaVu Sans Mono',consolas,'Courier New',monospace\"><span style=\"font-weight: bold\"> Total params: </span><span style=\"color: #00af00; text-decoration-color: #00af00\">200,842</span> (784.54 KB)\n",
              "</pre>"
            ]
          }
        },
        {
          "output_type": "display_data",
          "metadata": {},
          "data": {
            "text/html": [
              "<pre style=\"white-space:pre;overflow-x:auto;line-height:normal;font-family:Menlo,'DejaVu Sans Mono',consolas,'Courier New',monospace\"><span style=\"font-weight: bold\"> Trainable params: </span><span style=\"color: #00af00; text-decoration-color: #00af00\">200,842</span> (784.54 KB)\n",
              "</pre>"
            ]
          }
        },
        {
          "output_type": "display_data",
          "metadata": {},
          "data": {
            "text/html": [
              "<pre style=\"white-space:pre;overflow-x:auto;line-height:normal;font-family:Menlo,'DejaVu Sans Mono',consolas,'Courier New',monospace\"><span style=\"font-weight: bold\"> Non-trainable params: </span><span style=\"color: #00af00; text-decoration-color: #00af00\">0</span> (0.00 B)\n",
              "</pre>"
            ]
          }
        }
      ],
      "source": [
        "import os\n",
        "\n",
        "\n",
        "import jax\n",
        "from jax import random\n",
        "import jax.numpy as jnp\n",
        "import keras as K\n",
        "from pathlib import Path\n",
        "\n",
        "import tempfile\n",
        "import shutil\n",
        "# jax.distributed.initialize()\n",
        "\n",
        "N_TRAIN = 8 * 2 ** (10 + 4)\n",
        "N_EVAL = 8 * 2**10\n",
        "BATCH_SIZE = 32\n",
        "\n",
        "key = random.PRNGKey(0)\n",
        "\n",
        "print(\"Download dataset\")\n",
        "(x_train, y_train), (x_test, y_test) = K.datasets.mnist.load_data()\n",
        "# Scale images to the [0, 1] range\n",
        "x_train = x_train.astype(\"float32\") / 255\n",
        "x_test = x_test.astype(\"float32\") / 255\n",
        "# Make sure images have shape (28, 28, 1)\n",
        "x_train = jnp.expand_dims(x_train, -1)\n",
        "x_test = jnp.expand_dims(x_test, -1)\n",
        "\n",
        "input_shape = 28, 28, 1\n",
        "\n",
        "print(\"Make model\")\n",
        "model = K.Sequential(\n",
        "    [\n",
        "        K.layers.Input(shape=input_shape),\n",
        "        K.layers.Flatten(),\n",
        "        K.layers.Dense(128, activation=\"relu\"),\n",
        "        K.layers.Dense(128, activation=\"relu\"),\n",
        "        K.layers.Dropout(rate=0.5),\n",
        "        K.layers.Dense(128, activation=\"relu\"),\n",
        "        K.layers.Dense(128, activation=\"relu\"),\n",
        "        K.layers.Dropout(rate=0.5),\n",
        "        K.layers.Dense(128, activation=\"relu\"),\n",
        "        K.layers.Dense(128, activation=\"relu\"),\n",
        "        K.layers.Dropout(rate=0.5),\n",
        "        K.layers.Dense(128, activation=\"relu\"),\n",
        "        K.layers.Dense(10, activation=\"softmax\"),\n",
        "    ]\n",
        ")\n",
        "model.summary()\n",
        "loss_fn = K.losses.SparseCategoricalCrossentropy(from_logits=True)\n",
        "optimizer = K.optimizers.Adam(3e-4)\n",
        "train_metric = K.metrics.CategoricalAccuracy()\n",
        "\n",
        "\n",
        "def compute_loss(trainable_variables, non_trainable_variables, metrics_variables, x, y):\n",
        "    y_pred, non_trainable_variables = model.stateless_call(\n",
        "        trainable_variables, non_trainable_variables, x\n",
        "    )\n",
        "    loss = loss_fn(y, y_pred)\n",
        "    metrics_variables = train_metric.stateless_update_state(\n",
        "        metrics_variables, y, y_pred\n",
        "    )\n",
        "    return loss, (non_trainable_variables, metrics_variables)\n",
        "\n",
        "\n",
        "grad_fn = jax.value_and_grad(compute_loss, has_aux=True)\n",
        "\n",
        "\n",
        "@jax.jit\n",
        "def train_step(state, data):\n",
        "    (\n",
        "        trainable_variables,\n",
        "        non_trainable_variables,\n",
        "        optimizer_variables,\n",
        "        metric_variables,\n",
        "    ) = state\n",
        "    x, y = data\n",
        "\n",
        "    (loss, (non_trainable_variables, metric_variables)), grads = grad_fn(\n",
        "        trainable_variables, non_trainable_variables, metric_variables, x, y\n",
        "    )\n",
        "    trainable_variables, optimizer_variables = optimizer.stateless_apply(\n",
        "        optimizer_variables, grads, trainable_variables\n",
        "    )\n",
        "\n",
        "    return loss, (\n",
        "        trainable_variables,\n",
        "        non_trainable_variables,\n",
        "        optimizer_variables,\n",
        "        metric_variables,\n",
        "    )\n",
        "\n",
        "logs_dir = Path(\"logs/\").resolve()\n",
        "logs_dir.mkdir(exist_ok=True)\n",
        "\n",
        "trainable_variables = model.trainable_variables\n",
        "non_trainable_variables = model.non_trainable_variables\n",
        "\n",
        "optimizer.build(trainable_variables)\n",
        "optimizer_variables = optimizer.variables\n",
        "metrics_variables = train_metric.variables\n",
        "\n",
        "state = (\n",
        "    trainable_variables,\n",
        "    non_trainable_variables,\n",
        "    optimizer_variables,\n",
        "    metrics_variables,\n",
        ")\n",
        "\n",
        "x_train = x_train[2 * BATCH_SIZE :]\n",
        "y_train = y_train[2 * BATCH_SIZE :]\n",
        "\n",
        "def run(state, x_train, y_train):\n",
        "    acc_loss = 0\n",
        "    for step in range(0, x_train.shape[0], BATCH_SIZE):\n",
        "        data = x_train[step : step + BATCH_SIZE], y_train[step : step + BATCH_SIZE]\n",
        "        with jax.profiler.TraceAnnotation(\"train_step\"):\n",
        "            loss, state = train_step(state, data)\n",
        "            loss.block_until_ready()\n",
        "            acc_loss += loss\n",
        "        if step % 100 == 0:\n",
        "            *_, metrics_variables = state\n",
        "            for variable, value in zip(train_metric.variables, metrics_variables):\n",
        "                variable.assign(value)\n",
        "            print(f\"Acc: {train_metric.result()}\")\n",
        "            print(f\"Loss: {acc_loss / (step + 1)}\")"
      ],
      "id": "cba8a287"
    },
    {
      "cell_type": "markdown",
      "metadata": {},
      "source": [
        "# Experiments\n",
        "\n",
        "## Baseline run on 1 device"
      ],
      "id": "5f0ac661-d7f9-440b-a112-dcae3756e25b"
    },
    {
      "cell_type": "code",
      "execution_count": 2,
      "metadata": {},
      "outputs": [],
      "source": [
        "baseline_dir = logs_dir / \"baseline\"\n",
        "\n",
        "if not baseline_dir.exists():\n",
        "    with tempfile.TemporaryDirectory(prefix=\"sharding_jax_\") as tmpdir:\n",
        "        with jax.profiler.trace(tmpdir):\n",
        "            run(state, x_train, y_train)\n",
        "        shutil.move(tmpdir, baseline_dir)"
      ],
      "id": "376f6f72"
    }
  ],
  "nbformat": 4,
  "nbformat_minor": 5,
  "metadata": {
    "jupytext": {
      "cell_metadata_filter": "-all",
      "formats": "qmd,py:percent",
      "main_language": "python",
      "text_representation": {
        "extension": ".qmd",
        "format_name": "quarto",
        "format_version": "1.0",
        "jupytext_version": "1.15.2"
      }
    },
    "kernelspec": {
      "name": "python3",
      "display_name": "Python 3",
      "language": "python"
    }
  }
}