{
  "cells": [
    {
      "cell_type": "markdown",
      "metadata": {},
      "source": [
        "# Sharding with jax\n",
        "\n",
        "Hicham Randrianarivo\n",
        "\n",
        "# Sharding with jax\n",
        "\n",
        "## Links\n",
        "\n",
        "-   [Tutorial ICML\n",
        "    2022](https://sites.google.com/view/icml-2022-big-model/home)\n",
        "-   [Distributed arrays and automatic\n",
        "    parallelization](https://jax.readthedocs.io/en/latest/notebooks/Distributed_arrays_and_automatic_parallelization.html)\n",
        "-   [https://github.com/google-research/big_vision](Big%20vision) the\n",
        "    idea of the sharding class\n",
        "\n",
        "## Pre-requisites\n",
        "\n",
        "-   Train a 8 layers model\n",
        "-   Generate random data cube\n",
        "\n",
        "## Methods\n",
        "\n",
        "### Baseline\n",
        "\n",
        "-   Data parallelism\n",
        "    -   Data parallelism with all reduce\n",
        "-   Model Parallelism\n",
        "    -   Device placement\n",
        "        -   issue: each modules must wait for the computation of the\n",
        "            previous one\n",
        "        -   Micro batches\n",
        "            -   GPipe\n",
        "            -   1F1B\n",
        "            -   Interleaved 1F1B (megatron)\n",
        "                -   Split layers between multiple devices\n",
        "        -   Async pipelines (won’t cover this)\n",
        "    -   Split parameters ( intra-op parallelism)\n",
        "        -   Megatron-LM\n",
        "        -   ZeRO"
      ],
      "id": "6a3ef6b0-299c-4952-9433-5515bc77d405"
    }
  ],
  "nbformat": 4,
  "nbformat_minor": 5,
  "metadata": {
    "kernelspec": {
      "name": "python3",
      "display_name": "Python 3 (ipykernel)",
      "language": "python"
    }
  }
}