{
  "cells": [
    {
      "cell_type": "markdown",
      "metadata": {},
      "source": [
        "# Fine tuning Stable Diffusion XL\n",
        "\n",
        "Hicham Randrianarivo\n",
        "\n",
        "# Finetuning a Stable Diffusion XL model\n",
        "\n",
        "<a\n",
        "href=\"https://colab.research.google.com/github/chicham/chicham.github.io/blob/master/posts/fine-tune-stablediffusion-xl/fine-tune-stablediffusion-xl.ipnb\"\n",
        "data-fig-align=\"left\"><img\n",
        "src=\"https://colab.research.google.com/assets/colab-badge.svg\" /></a>\n",
        "\n",
        "## Links\n",
        "\n",
        "-   https://stability.ai/stable-diffusion\n",
        "-   https://arxiv.org/abs/2108.01073\n",
        "-   https://huggingface.co/stabilityai/stable-diffusion-xl-base-1.0\n",
        "-   https://github.com/Stability-AI/generative-models"
      ],
      "id": "141d71cc-df64-4764-8034-27bf0d0eee82"
    }
  ],
  "nbformat": 4,
  "nbformat_minor": 5,
  "metadata": {
    "kernelspec": {
      "display_name": "Python 3",
      "language": "python",
      "name": "python3"
    }
  }
}