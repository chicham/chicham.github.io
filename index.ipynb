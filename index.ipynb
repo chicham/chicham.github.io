{
  "cells": [
    {
      "cell_type": "markdown",
      "metadata": {},
      "source": [
        "# Hicham’s blog"
      ],
      "id": "34bd29ad-a36c-41a9-b99a-aa0e5fed9e10"
    }
  ],
  "nbformat": 4,
  "nbformat_minor": 5,
  "metadata": {
    "kernelspec": {
      "display_name": "Python 3",
      "language": "python",
      "name": "python3"
    }
  }
}